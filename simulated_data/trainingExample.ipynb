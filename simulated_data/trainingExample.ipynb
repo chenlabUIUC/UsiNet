{
  "cells": [
    {
      "cell_type": "code",
      "source": [
        "#Please delete this block if you don't use Google Colab. Please cd to the script folder. \n",
        "from google.colab import drive\n",
        "import os\n",
        "drive.mount('/content/drive', force_remount=True)\n",
        "os.chdir('drive/My Drive/YourFolderName') #Need to change the address to where your script is\n",
        "os.listdir('.')"
      ],
      "metadata": {
        "id": "ocj4EuyfOtGd"
      },
      "execution_count": null,
      "outputs": []
    },
    {
      "cell_type": "code",
      "source": [
        "import numpy as np\n",
        "import matplotlib.pyplot as plt\n",
        "import cv2\n",
        "import gc\n",
        "import csv\n",
        "from skimage import io\n",
        "import tensorflow as tf\n",
        "from tensorflow.keras.models import *\n",
        "from tensorflow.keras.layers import *\n",
        "from tensorflow.keras.optimizers import *\n",
        "from tensorflow.keras.callbacks import ModelCheckpoint, LearningRateScheduler, CSVLogger\n",
        "from tensorflow.keras import backend as keras\n",
        "from tensorflow.keras.initializers import *\n",
        "from tensorflow.data import Dataset"
      ],
      "metadata": {
        "id": "nfXxQYjTdtZ0"
      },
      "execution_count": 3,
      "outputs": []
    },
    {
      "cell_type": "code",
      "execution_count": null,
      "metadata": {
        "id": "htkf_zzYQKYy"
      },
      "outputs": [],
      "source": [
        "#Load training data and validation data\n",
        "train = (np.load('train.npy',allow_pickle=True).astype('float32'))*255\n",
        "label = (np.load('label.npy',allow_pickle=True).astype('float32'))*255\n",
        "valid = (np.load('valid.npy',allow_pickle=True).astype('float32'))*255\n",
        "trainSize = train.shape[0]\n",
        "validSize = valid.shape[0]\n",
        "labelSize = label.shape[0]\n",
        "print(trainSize)\n",
        "print(validSize) \n",
        "print(labelSize) "
      ]
    },
    {
      "cell_type": "code",
      "source": [
        "#Check the training dataset\n",
        "fig, ax = plt.subplots(nrows=1, ncols=3, figsize = (18,6))\n",
        "h0 = ax[0].imshow(train[np.random.randint(0,trainSize),:,:])\n",
        "plt.colorbar(h0,ax = ax[0], fraction=0.02, pad=0.04)\n",
        "ax[0].set_title('Training data')\n",
        "validNo = np.random.randint(0,validSize)\n",
        "\n",
        "h1 = ax[1].imshow(valid[validNo,:,:])\n",
        "plt.colorbar(h1,ax = ax[1], fraction=0.02, pad=0.04)\n",
        "ax[1].set_title('Validation data')\n",
        "\n",
        "h2 = ax[2].imshow(label[validNo,:,:])\n",
        "plt.colorbar(h1,ax = ax[2], fraction=0.02, pad=0.04)\n",
        "ax[2].set_title('Validation ground truth')"
      ],
      "metadata": {
        "id": "ItbPPDV9LnQ_"
      },
      "execution_count": null,
      "outputs": []
    },
    {
      "cell_type": "code",
      "execution_count": null,
      "metadata": {
        "id": "exYcPI9bsxM0",
        "scrolled": false
      },
      "outputs": [],
      "source": [
        "#Function and model defining\n",
        "def masker(imgs):# The random masking function\n",
        "\tmask = np.ones((imgs.shape[0],61,256)).astype('float32')\n",
        "\tfor i in range(mask.shape[0]):\n",
        "\t\ttemp = np.ones((61,256)).astype('float32')\n",
        "\t\tst = np.random.randint(0,42)\n",
        "\t\ttemp[st:st+20,:] = 0\n",
        "\t\tmask[i,:,:] = temp\n",
        "\timgs2 = imgs*mask\n",
        "\treturn (imgs2,mask)\n",
        " \n",
        "def get_unet():# Define the U-Net with MSE loss\n",
        "\t\tinputs = Input((61,256,1))\n",
        "\t\tpadd1 = ZeroPadding2D(padding=((0,3), (0,0)))(inputs)\n",
        "\t\tconv1 = Conv2D(128, 3, activation = 'relu', padding = 'same', kernel_initializer = 'he_normal')(padd1)\n",
        "\t\tprint (\"conv1 shape:\",conv1.shape)\n",
        "\t\tconv1 = Conv2D(128, 3, activation = 'relu', padding = 'same', kernel_initializer = 'he_normal')(conv1)\n",
        "\t\tprint (\"conv1 shape:\",conv1.shape)\n",
        "\t\tpool1 = MaxPooling2D(pool_size=(2, 2))(conv1)\n",
        "\t\tprint (\"pool1 shape:\",pool1.shape)\n",
        "\n",
        "\t\tconv2 = Conv2D(256, 3, activation = 'relu', padding = 'same', kernel_initializer = 'he_normal')(pool1)\n",
        "\t\tprint (\"conv2 shape:\",conv2.shape)\n",
        "\t\tconv2 = Conv2D(256, 3, activation = 'relu', padding = 'same', kernel_initializer = 'he_normal')(conv2)\n",
        "\t\tprint (\"conv2 shape:\",conv2.shape)\n",
        "\t\tpool2 = MaxPooling2D(pool_size=(2, 2))(conv2)\n",
        "\t\tprint (\"pool2 shape:\",pool2.shape)\n",
        "\n",
        "\t\tconv3 = Conv2D(512, 3, activation = 'relu', padding = 'same', kernel_initializer = 'he_normal')(pool2)\n",
        "\t\tprint (\"conv3 shape:\",conv3.shape)\n",
        "\t\tconv3 = Conv2D(512, 3, activation = 'relu', padding = 'same', kernel_initializer = 'he_normal')(conv3)\n",
        "\t\tprint (\"conv3 shape:\",conv3.shape)\n",
        "\t\tpool3 = MaxPooling2D(pool_size=(2, 2))(conv3)\n",
        "\t\tprint (\"pool3 shape:\",pool3.shape)\n",
        "\n",
        "\t\tconv4 = Conv2D(1024, 3, activation = 'relu', padding = 'same', kernel_initializer = 'he_normal')(pool3)\n",
        "\t\tconv4 = Conv2D(1024, 3, activation = 'relu', padding = 'same', kernel_initializer = 'he_normal')(conv4)\n",
        "\t\tdrop4 = Dropout(0.5)(conv4)\n",
        "\n",
        "\t\tup7 = Conv2D(512, 2, activation = 'relu', padding = 'same', kernel_initializer = 'he_normal')(UpSampling2D(size = (2,2))(conv4))\n",
        "\t\tmerge7 = concatenate([conv3,up7], axis = 3)\n",
        "\t\tconv7 = Conv2D(512, 3, activation = 'relu', padding = 'same', kernel_initializer = 'he_normal')(merge7)\n",
        "\t\tconv7 = Conv2D(512, 3, activation = 'relu', padding = 'same', kernel_initializer = 'he_normal')(conv7)\n",
        "\n",
        "\t\tup8 = Conv2D(256, 2, activation = 'relu', padding = 'same', kernel_initializer = 'he_normal')(UpSampling2D(size = (2,2))(conv7))\n",
        "\t\tmerge8 = concatenate([conv2,up8], axis = 3)\n",
        "\t\tconv8 = Conv2D(256, 3, activation = 'relu', padding = 'same', kernel_initializer = 'he_normal')(merge8)\n",
        "\t\tconv8 = Conv2D(256, 3, activation = 'relu', padding = 'same', kernel_initializer = 'he_normal')(conv8)\n",
        "\n",
        "\t\tup9 = Conv2D(128, 2, activation = 'relu', padding = 'same', kernel_initializer = 'he_normal')(UpSampling2D(size = (2,2))(conv8))\n",
        "\t\tmerge9 = concatenate([conv1,up9], axis = 3)\n",
        "\t\tconv9 = Conv2D(128, 3, activation = 'relu', padding = 'same', kernel_initializer = 'he_normal')(merge9)\n",
        "\t\tconv9 = Conv2D(128, 3, activation = 'relu', padding = 'same', kernel_initializer = 'he_normal')(conv9)\n",
        "\t\t\n",
        "\t\tconv10 = Conv2D(1, 1, activation = 'linear')(conv9)\n",
        "\t\tconv10 = Cropping2D(((0,3),(0,0)))(conv10)\n",
        "\t\tmodel = Model(inputs = inputs, outputs = conv10)\n",
        "\t\tmodel.compile(optimizer = Adam(learning_rate = 5e-6), loss = 'MSE', metrics = 'MSE') \n",
        "\t\treturn model"
      ]
    },
    {
      "cell_type": "code",
      "source": [
        "#Model training\n",
        "model = get_unet()\n",
        "model_checkpoint = ModelCheckpoint('model.hdf5', monitor='loss',verbose=1, save_best_only=False)\n",
        "f = open('log.csv', 'w+')\n",
        "f.close()\n",
        "model.summary()\n",
        "epochVolume = 1000 #parameter: how many sinogram images will be included in one epoch\n",
        "epoch = 200 #parameter: total epoch numbers before training stop\n",
        "sample_pred = np.random.choice(np.array(range(validSize)),10) # will select 10 random sinogram images in the validation data and output the prediction result every epoch\n",
        "sample_pred = valid[sample_pred] # will select 10 random sinogram images in the validation data and output the prediction result every epoch\n",
        "baseline_MSE = np.mean(np.square(valid - label))\n",
        "baseline_SSIM = tf.image.ssim(valid,label,max_val=255)\n",
        "baseline_PSNR = tf.image.psnr(valid,label,max_val=255)\n",
        "print('Baseline MSE: '+str(baseline_MSE) + '; Baseline SSIM: '+str(baseline_SSIM.numpy()) + '; BaselinePSNR: ' + str(baseline_PSNR.numpy()))\n",
        "for epochs in range(epoch):\n",
        "  print('Epoch: '+str(epochs)+' 1st predicting')\n",
        "  sample = np.random.choice(np.array(range(trainSize)),epochVolume) #Randomly sample image in the training dataset\n",
        "  sample = train[sample] #Randomly sample image in the training dataset\n",
        "  imgs_1st_predict = model.predict(sample, batch_size=1, verbose=1).squeeze() #Make 1st prediction from the sampled images\n",
        "  imgs_2nd_masked = masker(imgs_1st_predict)[0] #Mask the 1st predictions\n",
        "  print('Epoch: '+str(epochs)+' training')\n",
        "  h = model.fit(imgs_2nd_masked, imgs_1st_predict, batch_size=1, validation_data = (valid, label), epochs=1, verbose=1,  shuffle=True, callbacks=[model_checkpoint]) #Use the 1st predictions and their masked versions for training\n",
        "  print('Epoch: '+str(epochs)+' 2nd predicting')\n",
        "  imgs_1st_predict = model.predict(sample_pred, batch_size=2, verbose=1).squeeze() #Try to predict the 10 random sinogram images\n",
        "  imgs_2nd_predict = model.predict(masker(imgs_1st_predict)[0], batch_size=2, verbose=1).squeeze() #Try to predict the masked 10 random sinogram images\n",
        "  print('Epoch: '+str(epochs)+' saving montages')\n",
        "  opt1 = np.concatenate((np.concatenate((imgs_1st_predict[:5]),axis = 1) , np.concatenate((imgs_1st_predict[5:]),axis = 1)) , axis = 0)\n",
        "  opt2 = np.concatenate((np.concatenate((imgs_2nd_predict[:5]),axis = 1) , np.concatenate((imgs_2nd_predict[5:]),axis = 1)) , axis = 0)\n",
        "  opt1[opt1<0] = 0\n",
        "  opt1[opt1>255] = 255\n",
        "  opt2[opt2<0] = 0\n",
        "  opt2[opt2>255] = 255\n",
        "  opt1 = opt1.astype('uint8')\n",
        "  opt2 = opt2.astype('uint8')\n",
        "  cv2.imwrite('output/1st/'+str(epochs)+'.png', opt1 ) #Write the predictions of the 10 random sinogram images\n",
        "  cv2.imwrite('output/2nd/'+str(epochs)+'.png', opt2 ) #Write the predictions of the masked predictions of the 10 random sinogram images\n",
        "  _ = gc.collect()\n",
        "  tf.keras.backend.clear_session()\n",
        "  f = open('log.csv', 'a')\n",
        "  writer = csv.writer(f)\n",
        "  writer.writerow( [h.history['MSE'][0],h.history['val_MSE'][0],baseline_MSE] )\n",
        "  f.close()"
      ],
      "metadata": {
        "id": "V2lcLMxXMpWi"
      },
      "execution_count": null,
      "outputs": []
    },
    {
      "cell_type": "code",
      "execution_count": null,
      "metadata": {
        "id": "ewvPAiHtwmzm"
      },
      "outputs": [],
      "source": [
        "#Predict the validation data and print the SSIM and PSNR\n",
        "print('Predicting validation data')\n",
        "predictions = model.predict(valid, batch_size=2, verbose=1)\n",
        "SSIM = tf.image.ssim(predictions[:,:,:,0],label,max_val=255)\n",
        "PSNR = tf.image.psnr(predictions[:,:,:,0],label,max_val=255)\n",
        "print(SSIM)\n",
        "print(PSNR)"
      ]
    },
    {
      "cell_type": "code",
      "source": [
        "#Make prediction for test data. Test data are sinogram image stacks instead of single sinograms.\n",
        "test= (np.load('test.npy',allow_pickle=True).astype('float32'))*255\n",
        "itr = 1\n",
        "for tilt in test:\n",
        "  predictions = model.predict(tilt, batch_size=2, verbose=1)\n",
        "  predictions[predictions<0] = 0\n",
        "  predictions[predictions>255] = 255\n",
        "  io.imsave('output/test_pred/'+str(itr)+'.tif', predictions.squeeze()/255  )\n",
        "  itr = itr+1"
      ],
      "metadata": {
        "id": "s78Fl3VgRXy9"
      },
      "execution_count": null,
      "outputs": []
    }
  ],
  "metadata": {
    "accelerator": "GPU",
    "colab": {
      "machine_shape": "hm",
      "provenance": []
    },
    "kernelspec": {
      "display_name": "Python 3 (ipykernel)",
      "language": "python",
      "name": "python3"
    },
    "language_info": {
      "codemirror_mode": {
        "name": "ipython",
        "version": 3
      },
      "file_extension": ".py",
      "mimetype": "text/x-python",
      "name": "python",
      "nbconvert_exporter": "python",
      "pygments_lexer": "ipython3",
      "version": "3.8.0"
    },
    "gpuClass": "premium"
  },
  "nbformat": 4,
  "nbformat_minor": 0
}